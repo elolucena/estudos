{
  "nbformat": 4,
  "nbformat_minor": 0,
  "metadata": {
    "colab": {
      "provenance": []
    },
    "kernelspec": {
      "name": "python3",
      "display_name": "Python 3"
    },
    "language_info": {
      "name": "python"
    }
  },
  "cells": [
    {
      "cell_type": "code",
      "execution_count": 3,
      "metadata": {
        "colab": {
          "base_uri": "https://localhost:8080/"
        },
        "id": "mu2Uyki6w1-_",
        "outputId": "15f26e6b-a916-4d44-a3f1-1973694d8b16"
      },
      "outputs": [
        {
          "output_type": "stream",
          "name": "stdout",
          "text": [
            "Qual é a sua idade? 17\n",
            "Você NÃO é obrigado a votar!\n"
          ]
        }
      ],
      "source": [
        "# UNINASSAU\n",
        "# DOCENTE: CLOVES ROCHA\n",
        "# DISCIPLINA: ESTRUTURA DE DADOS\n",
        "# 10. Operadores Lógicos:\n",
        "# and; or; not; Função range()\n",
        "# e os operadores in; not in;\n",
        "\n",
        "# a.Operador and:\n",
        "resposta = int(input('Qual é a sua idade? '))\n",
        "if resposta >=18 and resposta <=65:\n",
        "  print('Você é obrigado a votar!')\n",
        "else:\n",
        "  print('Você NÃO é obrigado a votar!')\n",
        "\n"
      ]
    },
    {
      "cell_type": "code",
      "source": [
        "numero = float(input('Digite um número: '))\n",
        "if numero > 0:\n",
        "  print('Este número é positivo!')\n",
        "elif numero == 0:\n",
        "  print('Este número é neutro.')\n",
        "\n",
        "else:\n",
        "  print('Este número é negativo')"
      ],
      "metadata": {
        "colab": {
          "base_uri": "https://localhost:8080/"
        },
        "id": "2B7oH5EP1p7W",
        "outputId": "61bc3f56-ee4b-48f6-ef0e-5d10d2f95bfe"
      },
      "execution_count": 6,
      "outputs": [
        {
          "output_type": "stream",
          "name": "stdout",
          "text": [
            "Digite um número: -1\n",
            "Este número é negativo\n"
          ]
        }
      ]
    }
  ]
}